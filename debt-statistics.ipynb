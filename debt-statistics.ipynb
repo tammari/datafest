{
 "cells": [
  {
   "cell_type": "markdown",
   "metadata": {},
   "source": [
    "## What Country is lending and how much\n"
   ]
  },
  {
   "cell_type": "code",
   "execution_count": null,
   "metadata": {},
   "outputs": [],
   "source": [
    "# pip install plotly==4.14.1"
   ]
  },
  {
   "cell_type": "code",
   "execution_count": 27,
   "metadata": {
    "slideshow": {
     "slide_type": "slide"
    }
   },
   "outputs": [],
   "source": [
    "# Import packages\n",
    "import requests\n",
    "import json\n",
    "import pandas as pd\n",
    "import matplotlib.pyplot as plt\n",
    "import plotly.express as px\n",
    "import plotly.io as pio\n",
    "pio.renderers.default = \"notebook\" # use \"pio.renderers\" to see the default renderer"
   ]
  },
  {
   "cell_type": "code",
   "execution_count": 28,
   "metadata": {},
   "outputs": [
    {
     "name": "stdout",
     "output_type": "stream",
     "text": [
      "The source ID for International Debt Statistics is 6\n"
     ]
    }
   ],
   "source": [
    "# Get all sources from the World Bank API\n",
    "sources = requests.get(\"http://api.worldbank.org/v2/sources?per_page=100&format=json\")\n",
    "sourcesJSON = sources.json()\n",
    "#print(sourcesJSON) # if you want to view the JSON response as is, remove the \"#\" at the beginning of the print command\n",
    "\n",
    "# Parse through the response to see the source names and ID numbers.\n",
    "for i in sourcesJSON[1]:\n",
    "    if i[\"name\"] == \"International Debt Statistics\":\n",
    "        print(\"The source ID for International Debt Statistics is \" + i[\"id\"])\n",
    "    else:\n",
    "        pass\n",
    "    #print(i[\"id\"],i[\"name\"]) # to see all the source names and IDs, remove the # at the beginning of this line"
   ]
  },
  {
   "cell_type": "code",
   "execution_count": 29,
   "metadata": {},
   "outputs": [],
   "source": [
    "# Requesting the indicators for the topic External Debt\n",
    "indicators = requests.get(\"http://api.worldbank.org/v2/indicator?format=json&source=6\")\n",
    "indicatorsJSON = indicators.json()"
   ]
  },
  {
   "cell_type": "code",
   "execution_count": 30,
   "metadata": {},
   "outputs": [
    {
     "name": "stdout",
     "output_type": "stream",
     "text": [
      "There are 497 IDS indicators\n"
     ]
    }
   ],
   "source": [
    "# Print the total number of indicators\n",
    "print(\"There are \" + str(indicatorsJSON[0][\"total\"]) + \" IDS indicators\")"
   ]
  },
  {
   "cell_type": "code",
   "execution_count": 31,
   "metadata": {},
   "outputs": [],
   "source": [
    "# Get all External Debt indicators, with a per_page parameter of 500.\n",
    "indicators = requests.get(\"http://api.worldbank.org/v2/indicator?format=json&source=6&per_page=500\")\n",
    "indicatorsJSON = indicators.json()\n",
    "#print(indicatorsJSON) # to view ALL of the indicators as is, remove the \"#\" at the beginning of the print command\n",
    "\n",
    "# Parse through the response to see the Indicator IDs and Names\n",
    "for i in indicatorsJSON[1]:\n",
    "    IDSindicators = (i[\"id\"],i[\"name\"])\n",
    "    #print(IDSindicators) # to view the indicator ids and names, remove the \"#\" at the beginning of the print command"
   ]
  },
  {
   "cell_type": "code",
   "execution_count": 32,
   "metadata": {},
   "outputs": [
    {
     "name": "stdout",
     "output_type": "stream",
     "text": [
      "Long-term debt is debt that has an original or extended maturity of more than one year. It has three components: public, publicly guaranteed, and private nonguaranteed debt. Data are in current U.S. dollars.\n"
     ]
    }
   ],
   "source": [
    "# Use the indicator code to define the \"indicator\" variable\n",
    "indicator = \"DT.DOD.DLXF.CD\"\n",
    "\n",
    "# Parse through the response to get the \"sourceNote\" or definition for the desired indicator\n",
    "for dict_entity in indicatorsJSON[1]:\n",
    "    if dict_entity[\"id\"] == indicator:\n",
    "        print(dict_entity[\"sourceNote\"])\n",
    "    else:\n",
    "        pass"
   ]
  },
  {
   "cell_type": "code",
   "execution_count": 39,
   "metadata": {},
   "outputs": [
    {
     "name": "stdout",
     "output_type": "stream",
     "text": [
      "      id                                       value\n",
      "93   PNG                            Papua New Guinea\n",
      "94   PRY                                    Paraguay\n",
      "95   RUS                          Russian Federation\n",
      "96   RWA                                      Rwanda\n",
      "97   SAS                                  South Asia\n",
      "98   SDN                                       Sudan\n",
      "99   SEN                                     Senegal\n",
      "100  SLB                             Solomon Islands\n",
      "101  SLE                                Sierra Leone\n",
      "102  SLV                                 El Salvador\n",
      "103  SOM                                     Somalia\n",
      "104  SRB                                      Serbia\n",
      "105  SSA  Sub-Saharan Africa (excluding high income)\n",
      "106  STP                       Sao Tome and Principe\n",
      "107  SWZ                                    Eswatini\n",
      "108  SYR                        Syrian Arab Republic\n",
      "109  TCD                                        Chad\n",
      "110  TGO                                        Togo\n",
      "111  THA                                    Thailand\n",
      "112  TJK                                  Tajikistan\n",
      "113  TKM                                Turkmenistan\n",
      "114  TLS                                 Timor-Leste\n",
      "115  TON                                       Tonga\n",
      "116  TUN                                     Tunisia\n",
      "117  TUR                                      Turkey\n",
      "118  TZA                                    Tanzania\n",
      "119  UGA                                      Uganda\n",
      "120  UKR                                     Ukraine\n",
      "121  UMC                         Upper middle income\n",
      "122  UZB                                  Uzbekistan\n",
      "123  VCT              St. Vincent and the Grenadines\n",
      "124  VEN                               Venezuela, RB\n",
      "125  VNM                                     Vietnam\n",
      "126  VUT                                     Vanuatu\n",
      "127  WSM                                       Samoa\n",
      "128  XKX                                      Kosovo\n",
      "129  YEM                                 Yemen, Rep.\n",
      "130  ZAF                                South Africa\n",
      "131  ZMB                                      Zambia\n",
      "132  ZWE                                    Zimbabwe\n"
     ]
    }
   ],
   "source": [
    "# Requesting the Debtor locations\n",
    "dlocations = requests.get(\"http://api.worldbank.org/v2/sources/6/country?per_page=300&format=JSON\")\n",
    "dlocationsJSON = dlocations.json()\n",
    "\n",
    "# Parse through the response to see the location IDs and names\n",
    "dlocations = dlocationsJSON[\"source\"][0][\"concept\"][0][\"variable\"]\n",
    "listLen = int(len(dlocations))\n",
    "\n",
    "# Create dataframe with location values\n",
    "df = pd.DataFrame(columns=[\"id\", \"value\"])     \n",
    "for i in range(0,listLen):\n",
    "    code = dlocations[i][\"id\"]\n",
    "    name = dlocations[i][\"value\"]\n",
    "    df = df.append({\"id\":code, \"value\":name}, ignore_index = True)\n",
    "dlocationsList = df\n",
    "\n",
    "# See first few items in the dataframe\n",
    "print(dlocationsList.tail(n=40))"
   ]
  },
  {
   "cell_type": "code",
   "execution_count": 34,
   "metadata": {},
   "outputs": [
    {
     "name": "stdout",
     "output_type": "stream",
     "text": [
      "    id                 value\n",
      "0  001               Austria\n",
      "1  002               Belgium\n",
      "2  003               Denmark\n",
      "3  004                France\n",
      "4  005  Germany, Fed.Rep. Of\n",
      "5  006                 Italy\n",
      "6  007           Netherlands\n",
      "7  008                Norway\n",
      "8  009              Portugal\n",
      "9  010                Sweden\n"
     ]
    }
   ],
   "source": [
    "# Requesting the Creditor locations\n",
    "clocations = requests.get(\"http://api.worldbank.org/v2/sources/6/counterpart-area?per_page=300&format=JSON\")\n",
    "clocationsJSON = clocations.json()\n",
    "\n",
    "# Parse through the response to see the location IDs and names\n",
    "clocations = clocationsJSON[\"source\"][0][\"concept\"][0][\"variable\"]\n",
    "listLen = int(len(clocations))\n",
    "\n",
    "# Create dataframe with location values\n",
    "df = pd.DataFrame(columns=[\"id\", \"value\"])     \n",
    "for i in range(0,listLen):\n",
    "    code = clocations[i][\"id\"]\n",
    "    name = clocations[i][\"value\"]\n",
    "    df = df.append({\"id\":code, \"value\":name}, ignore_index = True)\n",
    "clocationsList = df\n",
    "\n",
    "# See first few items in the dataframe\n",
    "print(clocationsList.head(n=10))"
   ]
  },
  {
   "cell_type": "markdown",
   "metadata": {},
   "source": [
    "Start of the creditor details"
   ]
  },
  {
   "cell_type": "code",
   "execution_count": 54,
   "metadata": {},
   "outputs": [],
   "source": [
    "# countries: Georgia GEO; \n",
    "debtorCountry = \"AGO\"\n",
    "# countries: japan 701; norway 008; italy 006; \n",
    "creditorCountry = \"701\"\n",
    "series = \"DT.DOD.BLAT.CD\"\n",
    "time = \"All\""
   ]
  },
  {
   "cell_type": "code",
   "execution_count": 55,
   "metadata": {},
   "outputs": [
    {
     "name": "stdout",
     "output_type": "stream",
     "text": [
      "    year creditor debtor       indicator         data\n",
      "41  2011      701    AGO  DT.DOD.BLAT.CD   39462168.9\n",
      "42  2012      701    AGO  DT.DOD.BLAT.CD  163188978.5\n",
      "43  2013      701    AGO  DT.DOD.BLAT.CD  155071287.7\n",
      "44  2014      701    AGO  DT.DOD.BLAT.CD  631822127.3\n",
      "45  2015      701    AGO  DT.DOD.BLAT.CD  743593983.4\n",
      "46  2016      701    AGO  DT.DOD.BLAT.CD  698012068.5\n",
      "47  2017      701    AGO  DT.DOD.BLAT.CD  639803915.0\n",
      "48  2018      701    AGO  DT.DOD.BLAT.CD  553718698.1\n",
      "49  2019      701    AGO  DT.DOD.BLAT.CD  468514639.4\n"
     ]
    }
   ],
   "source": [
    "# Setting up the API URL\n",
    "url = \"http://api.worldbank.org/v2/sources/6/country/\"\n",
    "end = \"?format=json&per_page=500\"\n",
    "path = url+debtorCountry+\"/series/\"+series+\"/counterpart-area/\"+creditorCountry+\"/time/\"+time+end\n",
    "\n",
    "# Creating a funtion that will parse through the JSON response\n",
    "def getData(JSON):\n",
    "    df = pd.DataFrame(columns=[\"year\", \"creditor\", \"debtor\", \"indicator\",\"data\"])\n",
    "    for i in range(0,listLen):\n",
    "        time = JSON[\"source\"][\"data\"][i][\"variable\"][1][\"value\"]\n",
    "        num = JSON[\"source\"][\"data\"][i][\"value\"]\n",
    "        df = df.append({\"year\":time, \"creditor\": creditorCountry, \n",
    "                        \"debtor\":debtorCountry, \"indicator\":series, \"data\":num\n",
    "                       }, ignore_index = True)\n",
    "    return(df)\n",
    "\n",
    "# Getting the data from the API\n",
    "custom = requests.get(path)\n",
    "customJSON = custom.json()\n",
    "listLen = int(len(customJSON[\"source\"][\"data\"]))\n",
    "\n",
    "# Plugging the data into the parsing function and printing the data (excluding NaN values)\n",
    "IDSdata = getData(customJSON).dropna()\n",
    "print(IDSdata)"
   ]
  },
  {
   "cell_type": "code",
   "execution_count": 56,
   "metadata": {},
   "outputs": [
    {
     "data": {
      "text/plain": [
       "<Figure size 432x288 with 0 Axes>"
      ]
     },
     "metadata": {},
     "output_type": "display_data"
    },
    {
     "data": {
      "image/png": "[encoded data removed]",
      "text/plain": [
       "<Figure size 432x288 with 1 Axes>"
      ]
     },
     "metadata": {
      "needs_background": "light"
     },
     "output_type": "display_data"
    }
   ],
   "source": [
    "# Selecting the dataframe created above as the data source for the chart\n",
    "# source = IDSdata\n",
    "df = df.cumsum()\n",
    "plt.figure();\n",
    "#df.plot();\n",
    "\n",
    "IDSdata.plot.bar (x='year', y='data', title=\"Official bilateral PPG Lending \");\n",
    "# Plugging in the datasource, X and Y indicators, and the title for the chart\n",
    "# chart = px.bar(source, \n",
    "#                x=\"year\",\n",
    "#                y=\"data\",\n",
    "#                title=\"Official bilateral PPG Lending from Japan to Angola (US$)\")\n",
    "#chart.update_layout(\n",
    "#                plot_bgcolor=\"black\")\n",
    "\n",
    "# Displaying the chart\n",
    "#chart"
   ]
  },
  {
   "cell_type": "code",
   "execution_count": null,
   "metadata": {},
   "outputs": [],
   "source": []
  },
  {
   "cell_type": "code",
   "execution_count": null,
   "metadata": {},
   "outputs": [],
   "source": []
  }
 ],
 "metadata": {
  "environment": {
   "name": "tf2-2-3-gpu.2-3.m59",
   "type": "gcloud",
   "uri": "gcr.io/deeplearning-platform-release/tf2-2-3-gpu.2-3:m59"
  },
  "kernelspec": {
   "display_name": "Python 3",
   "language": "python",
   "name": "python3"
  },
  "language_info": {
   "codemirror_mode": {
    "name": "ipython",
    "version": 3
   },
   "file_extension": ".py",
   "mimetype": "text/x-python",
   "name": "python",
   "nbconvert_exporter": "python",
   "pygments_lexer": "ipython3",
   "version": "3.7.8"
  }
 },
 "nbformat": 4,
 "nbformat_minor": 4
}
