{
 "cells": [
  {
   "cell_type": "markdown",
   "metadata": {},
   "source": [
    "## predict COVID-19 impact in next x days"
   ]
  },
  {
   "cell_type": "markdown",
   "metadata": {},
   "source": [
    "Harvard and Google worked to improve forecasting model combining time series machine learning with epidemiological foundation. \n",
    "[white paper](https://storage.googleapis.com/covid-external/COVID-19ForecastWhitePaper.pdf)\n",
    "[Japan forecast impact dashboard](http://g.co/covidforecast)\n",
    "[United States forecast impact dashboard](http://g.co/covid19/japanforecast) my county is 48339"
   ]
  },
  {
   "cell_type": "code",
   "execution_count": null,
   "metadata": {},
   "outputs": [],
   "source": [
    "%%bigquery\n",
    "SELECT forecast_date, prediction_date, new_confirmed, new_confirmed_7day_rolling, recovered\n",
    "FROM\n",
    "  `bigquery-public-data.covid19_public_forecasts.county_28d` \n",
    "WHERE\n",
    "  county_name = \"Montgomery\" and state_name = 'Texas'\n",
    "  AND prediction_date >= forecast_date\n",
    "ORDER BY\n",
    "  prediction_date"
   ]
  },
  {
   "cell_type": "code",
   "execution_count": null,
   "metadata": {},
   "outputs": [],
   "source": [
    "%%bigquery\n",
    "select * from `bigquery-public-data.covid19_nyt.us_counties`\n",
    "order by date DESC, confirmed_cases DESC\n",
    "limit 20"
   ]
  },
  {
   "cell_type": "code",
   "execution_count": null,
   "metadata": {},
   "outputs": [],
   "source": []
  }
 ],
 "metadata": {
  "environment": {
   "name": "tf2-2-3-gpu.2-3.m59",
   "type": "gcloud",
   "uri": "gcr.io/deeplearning-platform-release/tf2-2-3-gpu.2-3:m59"
  },
  "kernelspec": {
   "display_name": "Python 3",
   "language": "python",
   "name": "python3"
  },
  "language_info": {
   "codemirror_mode": {
    "name": "ipython",
    "version": 3
   },
   "file_extension": ".py",
   "mimetype": "text/x-python",
   "name": "python",
   "nbconvert_exporter": "python",
   "pygments_lexer": "ipython3",
   "version": "3.7.8"
  }
 },
 "nbformat": 4,
 "nbformat_minor": 4
}
